{
 "cells": [
  {
   "cell_type": "code",
   "execution_count": 1,
   "metadata": {},
   "outputs": [],
   "source": [
    "import re\n",
    "import pandas as pd\n",
    "\n",
    "\n",
    "from imblearn.under_sampling import RandomUnderSampler\n",
    "from sklearn.model_selection import train_test_split\n",
    "from sklearn.preprocessing import LabelEncoder\n",
    "from sklearn.feature_extraction.text import TfidfVectorizer\n",
    "from sklearn.linear_model import LogisticRegression\n",
    "from sklearn.metrics import accuracy_score\n",
    "from nltk.corpus import stopwords\n",
    "from nltk.tokenize import word_tokenize\n",
    "\n"
   ]
  },
  {
   "cell_type": "markdown",
   "metadata": {},
   "source": [
    "## TF-IDF VECTORIZER ##"
   ]
  },
  {
   "cell_type": "code",
   "execution_count": 2,
   "metadata": {},
   "outputs": [
    {
     "name": "stderr",
     "output_type": "stream",
     "text": [
      "/var/folders/q_/fk7mrt1x27g0xm9pkch74j5m0000gn/T/ipykernel_78411/888051889.py:2: DtypeWarning: Columns (0) have mixed types. Specify dtype option on import or set low_memory=False.\n",
      "  df_test = pd.read_csv('test.csv', on_bad_lines='skip', sep=chr(1))\n"
     ]
    }
   ],
   "source": [
    "df_train = pd.read_csv('train.csv', on_bad_lines='skip', sep=chr(1))\n",
    "df_test = pd.read_csv('test.csv', on_bad_lines='skip', sep=chr(1))\n"
   ]
  },
  {
   "cell_type": "code",
   "execution_count": 3,
   "metadata": {},
   "outputs": [
    {
     "data": {
      "text/html": [
       "<div>\n",
       "<style scoped>\n",
       "    .dataframe tbody tr th:only-of-type {\n",
       "        vertical-align: middle;\n",
       "    }\n",
       "\n",
       "    .dataframe tbody tr th {\n",
       "        vertical-align: top;\n",
       "    }\n",
       "\n",
       "    .dataframe thead th {\n",
       "        text-align: right;\n",
       "    }\n",
       "</style>\n",
       "<table border=\"1\" class=\"dataframe\">\n",
       "  <thead>\n",
       "    <tr style=\"text-align: right;\">\n",
       "      <th></th>\n",
       "      <th>product_id</th>\n",
       "      <th>product_text</th>\n",
       "      <th>category</th>\n",
       "    </tr>\n",
       "  </thead>\n",
       "  <tbody>\n",
       "    <tr>\n",
       "      <th>0</th>\n",
       "      <td>214477867</td>\n",
       "      <td>Lg K11 2.4a Hızlı Şarj Kablosu 2m Golden Serie...</td>\n",
       "      <td>Şarj Cihazı &amp; Kablo</td>\n",
       "    </tr>\n",
       "    <tr>\n",
       "      <th>1</th>\n",
       "      <td>104723304</td>\n",
       "      <td>Müthiş Satisfyer Dual Pleasure Telefon Kontrol...</td>\n",
       "      <td>Vibratör</td>\n",
       "    </tr>\n",
       "    <tr>\n",
       "      <th>2</th>\n",
       "      <td>134486860</td>\n",
       "      <td>Sıva Altı Dekoratif 12w Modül Led 3000k(GÜNIŞI...</td>\n",
       "      <td>Spot Lamba</td>\n",
       "    </tr>\n",
       "    <tr>\n",
       "      <th>3</th>\n",
       "      <td>106247966</td>\n",
       "      <td>Pc Ekmek Kutusu</td>\n",
       "      <td>Ekmek Kutusu ve Sepetleri</td>\n",
       "    </tr>\n",
       "    <tr>\n",
       "      <th>4</th>\n",
       "      <td>117703257</td>\n",
       "      <td>3mm Philips 55pus6262 Uyumlu Tv Ekran Koruyucu...</td>\n",
       "      <td>TV Ekran Koruyucular</td>\n",
       "    </tr>\n",
       "  </tbody>\n",
       "</table>\n",
       "</div>"
      ],
      "text/plain": [
       "   product_id                                       product_text  \\\n",
       "0   214477867  Lg K11 2.4a Hızlı Şarj Kablosu 2m Golden Serie...   \n",
       "1   104723304  Müthiş Satisfyer Dual Pleasure Telefon Kontrol...   \n",
       "2   134486860  Sıva Altı Dekoratif 12w Modül Led 3000k(GÜNIŞI...   \n",
       "3   106247966                                    Pc Ekmek Kutusu   \n",
       "4   117703257  3mm Philips 55pus6262 Uyumlu Tv Ekran Koruyucu...   \n",
       "\n",
       "                    category  \n",
       "0        Şarj Cihazı & Kablo  \n",
       "1                   Vibratör  \n",
       "2                 Spot Lamba  \n",
       "3  Ekmek Kutusu ve Sepetleri  \n",
       "4       TV Ekran Koruyucular  "
      ]
     },
     "execution_count": 3,
     "metadata": {},
     "output_type": "execute_result"
    }
   ],
   "source": [
    "df_train.head()"
   ]
  },
  {
   "cell_type": "code",
   "execution_count": 4,
   "metadata": {},
   "outputs": [
    {
     "data": {
      "text/html": [
       "<div>\n",
       "<style scoped>\n",
       "    .dataframe tbody tr th:only-of-type {\n",
       "        vertical-align: middle;\n",
       "    }\n",
       "\n",
       "    .dataframe tbody tr th {\n",
       "        vertical-align: top;\n",
       "    }\n",
       "\n",
       "    .dataframe thead th {\n",
       "        text-align: right;\n",
       "    }\n",
       "</style>\n",
       "<table border=\"1\" class=\"dataframe\">\n",
       "  <thead>\n",
       "    <tr style=\"text-align: right;\">\n",
       "      <th></th>\n",
       "      <th>product_id</th>\n",
       "      <th>product_text</th>\n",
       "      <th>category</th>\n",
       "    </tr>\n",
       "  </thead>\n",
       "  <tbody>\n",
       "    <tr>\n",
       "      <th>0</th>\n",
       "      <td>206870614</td>\n",
       "      <td>Marka: 18214 Disney Princess Ahşap Puzzle 16 P...</td>\n",
       "      <td>Spor Oyuncakları</td>\n",
       "    </tr>\n",
       "    <tr>\n",
       "      <th>1</th>\n",
       "      <td>44839736</td>\n",
       "      <td>40507 Ortopedik Günlük Erkek Terlik</td>\n",
       "      <td>Terlik</td>\n",
       "    </tr>\n",
       "    <tr>\n",
       "      <th>2</th>\n",
       "      <td>36998202</td>\n",
       "      <td>Kadın Beyaz 3 Çift Pamuklu Bilek Boyu Çorap</td>\n",
       "      <td>Spor Çorap</td>\n",
       "    </tr>\n",
       "    <tr>\n",
       "      <th>3</th>\n",
       "      <td>6560978</td>\n",
       "      <td>Bebek Bakım Kremi 250 gr 2 Adet</td>\n",
       "      <td>Bebek Kremi ve Yağı</td>\n",
       "    </tr>\n",
       "    <tr>\n",
       "      <th>4</th>\n",
       "      <td>138707066</td>\n",
       "      <td>Fırsat Ayı Krom 5 Katlı Pantolon Eşarp Askısı ...</td>\n",
       "      <td>Pantolon Askısı</td>\n",
       "    </tr>\n",
       "  </tbody>\n",
       "</table>\n",
       "</div>"
      ],
      "text/plain": [
       "  product_id                                       product_text  \\\n",
       "0  206870614  Marka: 18214 Disney Princess Ahşap Puzzle 16 P...   \n",
       "1   44839736                40507 Ortopedik Günlük Erkek Terlik   \n",
       "2   36998202        Kadın Beyaz 3 Çift Pamuklu Bilek Boyu Çorap   \n",
       "3    6560978                    Bebek Bakım Kremi 250 gr 2 Adet   \n",
       "4  138707066  Fırsat Ayı Krom 5 Katlı Pantolon Eşarp Askısı ...   \n",
       "\n",
       "              category  \n",
       "0     Spor Oyuncakları  \n",
       "1               Terlik  \n",
       "2           Spor Çorap  \n",
       "3  Bebek Kremi ve Yağı  \n",
       "4      Pantolon Askısı  "
      ]
     },
     "execution_count": 4,
     "metadata": {},
     "output_type": "execute_result"
    }
   ],
   "source": [
    "df_test.head()"
   ]
  },
  {
   "cell_type": "code",
   "execution_count": 5,
   "metadata": {},
   "outputs": [
    {
     "data": {
      "text/plain": [
       "Bagaj Havuzu               52899\n",
       "Bot & Bootie               49106\n",
       "Bijuteri Küpe              44818\n",
       "Omuz Çantası               43738\n",
       "Gömlek                     40909\n",
       "                           ...  \n",
       "Endüstriyel Temizleme        228\n",
       "Paketleme Malzemeleri        222\n",
       "Piknik Malzemesi             214\n",
       "Çocuk Odası Düzenleyici      187\n",
       "Gazoz                        132\n",
       "Name: category, Length: 1140, dtype: int64"
      ]
     },
     "execution_count": 5,
     "metadata": {},
     "output_type": "execute_result"
    }
   ],
   "source": [
    "df_train = df_train.dropna()\n",
    "df_train['category'].value_counts()\n"
   ]
  },
  {
   "cell_type": "code",
   "execution_count": 6,
   "metadata": {},
   "outputs": [
    {
     "name": "stdout",
     "output_type": "stream",
     "text": [
      "Category Sample Counts:\n",
      "Büyük Beden Elbise         4985\n",
      "El Feneri                  4973\n",
      "Yüz Temizleyici            4863\n",
      "Masa Lambası               4863\n",
      "Sandalye Minderi           4832\n",
      "                           ... \n",
      "Endüstriyel Temizleme       228\n",
      "Paketleme Malzemeleri       222\n",
      "Piknik Malzemesi            214\n",
      "Çocuk Odası Düzenleyici     187\n",
      "Gazoz                       132\n",
      "Name: category, Length: 828, dtype: int64\n"
     ]
    }
   ],
   "source": [
    "# Calculate sample size for each category\n",
    "category_counts = df_train['category'].value_counts()\n",
    "\n",
    "# Filter categories with sample size > 500\n",
    "categories_above_threshold = category_counts[category_counts < 5000].index.tolist()\n",
    "\n",
    "# Filter the DataFrame based on categories above threshold\n",
    "df_filtered = df_train[df_train['category'].isin(categories_above_threshold)]\n",
    "\n",
    "category_counts = df_filtered['category'].value_counts()\n",
    "\n",
    "print(\"Category Sample Counts:\")\n",
    "print(category_counts)"
   ]
  },
  {
   "cell_type": "code",
   "execution_count": 7,
   "metadata": {},
   "outputs": [
    {
     "data": {
      "text/html": [
       "<div>\n",
       "<style scoped>\n",
       "    .dataframe tbody tr th:only-of-type {\n",
       "        vertical-align: middle;\n",
       "    }\n",
       "\n",
       "    .dataframe tbody tr th {\n",
       "        vertical-align: top;\n",
       "    }\n",
       "\n",
       "    .dataframe thead th {\n",
       "        text-align: right;\n",
       "    }\n",
       "</style>\n",
       "<table border=\"1\" class=\"dataframe\">\n",
       "  <thead>\n",
       "    <tr style=\"text-align: right;\">\n",
       "      <th></th>\n",
       "      <th>product_id</th>\n",
       "      <th>product_text</th>\n",
       "      <th>category</th>\n",
       "    </tr>\n",
       "  </thead>\n",
       "  <tbody>\n",
       "    <tr>\n",
       "      <th>0</th>\n",
       "      <td>123354169</td>\n",
       "      <td>Pofidik Kare Sandalye Minderi 40x40 Cm</td>\n",
       "      <td>Sandalye Minderi</td>\n",
       "    </tr>\n",
       "    <tr>\n",
       "      <th>1</th>\n",
       "      <td>6583505</td>\n",
       "      <td>Özel Tasarım Fermuarlı Sandalye Minderi</td>\n",
       "      <td>Sandalye Minderi</td>\n",
       "    </tr>\n",
       "    <tr>\n",
       "      <th>2</th>\n",
       "      <td>35322790</td>\n",
       "      <td>Rattan Koltuk Minderi Su Geçirmez Kumaş 5 cm G...</td>\n",
       "      <td>Sandalye Minderi</td>\n",
       "    </tr>\n",
       "    <tr>\n",
       "      <th>3</th>\n",
       "      <td>69564220</td>\n",
       "      <td>Temizleyici Yüz Toniği 150 Ml</td>\n",
       "      <td>Yüz Temizleyici</td>\n",
       "    </tr>\n",
       "    <tr>\n",
       "      <th>4</th>\n",
       "      <td>95315892</td>\n",
       "      <td>Gp-209 Şarjlı Mıknatıslı Kancalı Döndürülebili...</td>\n",
       "      <td>El Feneri</td>\n",
       "    </tr>\n",
       "    <tr>\n",
       "      <th>...</th>\n",
       "      <td>...</td>\n",
       "      <td>...</td>\n",
       "      <td>...</td>\n",
       "    </tr>\n",
       "    <tr>\n",
       "      <th>24511</th>\n",
       "      <td>154298872</td>\n",
       "      <td>Masaüstü Kıstırmalı Lamba</td>\n",
       "      <td>Masa Lambası</td>\n",
       "    </tr>\n",
       "    <tr>\n",
       "      <th>24512</th>\n",
       "      <td>162681631</td>\n",
       "      <td>El Feneri 519</td>\n",
       "      <td>El Feneri</td>\n",
       "    </tr>\n",
       "    <tr>\n",
       "      <th>24513</th>\n",
       "      <td>189736850</td>\n",
       "      <td>Gold Silver Gs-530 Usb Ile Şarj Edilebilir T6 ...</td>\n",
       "      <td>El Feneri</td>\n",
       "    </tr>\n",
       "    <tr>\n",
       "      <th>24514</th>\n",
       "      <td>180075017</td>\n",
       "      <td>F.b.ı F-82 T6 Led Zoomlu 2000 Lm Yüksek Işık Ş...</td>\n",
       "      <td>El Feneri</td>\n",
       "    </tr>\n",
       "    <tr>\n",
       "      <th>24515</th>\n",
       "      <td>213667802</td>\n",
       "      <td>Kömürlü Yüz Temizleyici Jel 150 ml</td>\n",
       "      <td>Yüz Temizleyici</td>\n",
       "    </tr>\n",
       "  </tbody>\n",
       "</table>\n",
       "<p>24516 rows × 3 columns</p>\n",
       "</div>"
      ],
      "text/plain": [
       "       product_id                                       product_text  \\\n",
       "0       123354169             Pofidik Kare Sandalye Minderi 40x40 Cm   \n",
       "1         6583505            Özel Tasarım Fermuarlı Sandalye Minderi   \n",
       "2        35322790  Rattan Koltuk Minderi Su Geçirmez Kumaş 5 cm G...   \n",
       "3        69564220                      Temizleyici Yüz Toniği 150 Ml   \n",
       "4        95315892  Gp-209 Şarjlı Mıknatıslı Kancalı Döndürülebili...   \n",
       "...           ...                                                ...   \n",
       "24511   154298872                          Masaüstü Kıstırmalı Lamba   \n",
       "24512   162681631                                      El Feneri 519   \n",
       "24513   189736850  Gold Silver Gs-530 Usb Ile Şarj Edilebilir T6 ...   \n",
       "24514   180075017  F.b.ı F-82 T6 Led Zoomlu 2000 Lm Yüksek Işık Ş...   \n",
       "24515   213667802                 Kömürlü Yüz Temizleyici Jel 150 ml   \n",
       "\n",
       "               category  \n",
       "0      Sandalye Minderi  \n",
       "1      Sandalye Minderi  \n",
       "2      Sandalye Minderi  \n",
       "3       Yüz Temizleyici  \n",
       "4             El Feneri  \n",
       "...                 ...  \n",
       "24511      Masa Lambası  \n",
       "24512         El Feneri  \n",
       "24513         El Feneri  \n",
       "24514         El Feneri  \n",
       "24515   Yüz Temizleyici  \n",
       "\n",
       "[24516 rows x 3 columns]"
      ]
     },
     "execution_count": 7,
     "metadata": {},
     "output_type": "execute_result"
    }
   ],
   "source": [
    "df_filtered_train = df_train[(df_train['category'] == 'Yüz Temizleyici') | (df_train['category'] == 'Sandalye Minderi')| (df_train['category'] == 'Büyük Beden Elbise')| (df_train['category'] == 'El Feneri')| (df_train['category'] == 'Masa Lambası')]\n",
    "df_filtered_train = df_filtered_train.reset_index(drop=True)\n",
    "\n",
    "df_filtered_train"
   ]
  },
  {
   "cell_type": "code",
   "execution_count": 8,
   "metadata": {},
   "outputs": [
    {
     "data": {
      "text/html": [
       "<div>\n",
       "<style scoped>\n",
       "    .dataframe tbody tr th:only-of-type {\n",
       "        vertical-align: middle;\n",
       "    }\n",
       "\n",
       "    .dataframe tbody tr th {\n",
       "        vertical-align: top;\n",
       "    }\n",
       "\n",
       "    .dataframe thead th {\n",
       "        text-align: right;\n",
       "    }\n",
       "</style>\n",
       "<table border=\"1\" class=\"dataframe\">\n",
       "  <thead>\n",
       "    <tr style=\"text-align: right;\">\n",
       "      <th></th>\n",
       "      <th>product_id</th>\n",
       "      <th>product_text</th>\n",
       "      <th>category</th>\n",
       "    </tr>\n",
       "  </thead>\n",
       "  <tbody>\n",
       "    <tr>\n",
       "      <th>445</th>\n",
       "      <td>74908572</td>\n",
       "      <td>Dermapen Iğnesi (15 Adet - 12 Iğneli) Ultima A...</td>\n",
       "      <td>Yüz Temizleyici</td>\n",
       "    </tr>\n",
       "    <tr>\n",
       "      <th>486</th>\n",
       "      <td>213609159</td>\n",
       "      <td>Yılbaşı Temalı Soft Kırmızı Gül Tasarımlı 4 Yu...</td>\n",
       "      <td>Sandalye Minderi</td>\n",
       "    </tr>\n",
       "    <tr>\n",
       "      <th>546</th>\n",
       "      <td>105825089</td>\n",
       "      <td>İskandinav Sandalye Minderi</td>\n",
       "      <td>Sandalye Minderi</td>\n",
       "    </tr>\n",
       "    <tr>\n",
       "      <th>927</th>\n",
       "      <td>129872878</td>\n",
       "      <td>Kadın Lacivert Etek Ucu Dantel Kolsuz Viskon E...</td>\n",
       "      <td>Büyük Beden Elbise</td>\n",
       "    </tr>\n",
       "    <tr>\n",
       "      <th>1155</th>\n",
       "      <td>75471988</td>\n",
       "      <td>Kadın Kolsuz Parti Kokteyl Elbisesi</td>\n",
       "      <td>Büyük Beden Elbise</td>\n",
       "    </tr>\n",
       "    <tr>\n",
       "      <th>...</th>\n",
       "      <td>...</td>\n",
       "      <td>...</td>\n",
       "      <td>...</td>\n",
       "    </tr>\n",
       "    <tr>\n",
       "      <th>1714069</th>\n",
       "      <td>213614162</td>\n",
       "      <td>Kırmızı Ekoseli Geyik Tasarımlı 4 Yuvarlak Pof...</td>\n",
       "      <td>Sandalye Minderi</td>\n",
       "    </tr>\n",
       "    <tr>\n",
       "      <th>1714386</th>\n",
       "      <td>80693435</td>\n",
       "      <td>Tokyo Ghoul Ken Kaneki 16 Renk Gece Lambası</td>\n",
       "      <td>Masa Lambası</td>\n",
       "    </tr>\n",
       "    <tr>\n",
       "      <th>1714491</th>\n",
       "      <td>209122149</td>\n",
       "      <td>Ekose Detaylı Çift Ip Elbise</td>\n",
       "      <td>Büyük Beden Elbise</td>\n",
       "    </tr>\n",
       "    <tr>\n",
       "      <th>1714516</th>\n",
       "      <td>38869966</td>\n",
       "      <td>Dijital Baskılı Pofidik Sandalye Minderi</td>\n",
       "      <td>Sandalye Minderi</td>\n",
       "    </tr>\n",
       "    <tr>\n",
       "      <th>1715264</th>\n",
       "      <td>101262411</td>\n",
       "      <td>Pamuk Viskon Verev Kesim Asimetrik Ip Askılı U...</td>\n",
       "      <td>Büyük Beden Elbise</td>\n",
       "    </tr>\n",
       "  </tbody>\n",
       "</table>\n",
       "<p>6138 rows × 3 columns</p>\n",
       "</div>"
      ],
      "text/plain": [
       "        product_id                                       product_text  \\\n",
       "445       74908572  Dermapen Iğnesi (15 Adet - 12 Iğneli) Ultima A...   \n",
       "486      213609159  Yılbaşı Temalı Soft Kırmızı Gül Tasarımlı 4 Yu...   \n",
       "546      105825089                        İskandinav Sandalye Minderi   \n",
       "927      129872878  Kadın Lacivert Etek Ucu Dantel Kolsuz Viskon E...   \n",
       "1155      75471988                Kadın Kolsuz Parti Kokteyl Elbisesi   \n",
       "...            ...                                                ...   \n",
       "1714069  213614162  Kırmızı Ekoseli Geyik Tasarımlı 4 Yuvarlak Pof...   \n",
       "1714386   80693435        Tokyo Ghoul Ken Kaneki 16 Renk Gece Lambası   \n",
       "1714491  209122149                       Ekose Detaylı Çift Ip Elbise   \n",
       "1714516   38869966           Dijital Baskılı Pofidik Sandalye Minderi   \n",
       "1715264  101262411  Pamuk Viskon Verev Kesim Asimetrik Ip Askılı U...   \n",
       "\n",
       "                   category  \n",
       "445         Yüz Temizleyici  \n",
       "486        Sandalye Minderi  \n",
       "546        Sandalye Minderi  \n",
       "927      Büyük Beden Elbise  \n",
       "1155     Büyük Beden Elbise  \n",
       "...                     ...  \n",
       "1714069    Sandalye Minderi  \n",
       "1714386        Masa Lambası  \n",
       "1714491  Büyük Beden Elbise  \n",
       "1714516    Sandalye Minderi  \n",
       "1715264  Büyük Beden Elbise  \n",
       "\n",
       "[6138 rows x 3 columns]"
      ]
     },
     "execution_count": 8,
     "metadata": {},
     "output_type": "execute_result"
    }
   ],
   "source": [
    "df_filtered_test = df_test[(df_test['category'] == 'Yüz Temizleyici') | (df_test['category'] == 'Sandalye Minderi')| (df_test['category'] == 'Büyük Beden Elbise')| (df_test['category'] == 'El Feneri')| (df_test['category'] == 'Masa Lambası')]\n",
    "df_filtered_test"
   ]
  },
  {
   "cell_type": "code",
   "execution_count": 9,
   "metadata": {},
   "outputs": [
    {
     "name": "stderr",
     "output_type": "stream",
     "text": [
      "/var/folders/q_/fk7mrt1x27g0xm9pkch74j5m0000gn/T/ipykernel_78411/159079942.py:13: SettingWithCopyWarning: \n",
      "A value is trying to be set on a copy of a slice from a DataFrame.\n",
      "Try using .loc[row_indexer,col_indexer] = value instead\n",
      "\n",
      "See the caveats in the documentation: https://pandas.pydata.org/pandas-docs/stable/user_guide/indexing.html#returning-a-view-versus-a-copy\n",
      "  df_filtered_test['product_text'] = df_filtered_test['product_text'].apply(remove_stop_words)\n"
     ]
    }
   ],
   "source": [
    "# Get Turkish stop words\n",
    "turkish_stop_words = set(stopwords.words('turkish'))\n",
    "\n",
    "# Function to remove stop words from text\n",
    "def remove_stop_words(text):\n",
    "    text = text.lower()\n",
    "    text = re.sub(r'[^\\w\\s]', '', text)\n",
    "    tokens = word_tokenize(text)\n",
    "    filtered_tokens = [word for word in tokens if word.lower() not in turkish_stop_words]\n",
    "    return ' '.join(filtered_tokens)\n",
    "# Remove stop words from the 'text' column\n",
    "df_filtered_train['product_text'] = df_filtered_train['product_text'].apply(remove_stop_words)\n",
    "df_filtered_test['product_text'] = df_filtered_test['product_text'].apply(remove_stop_words)"
   ]
  },
  {
   "cell_type": "code",
   "execution_count": 10,
   "metadata": {},
   "outputs": [
    {
     "data": {
      "text/html": [
       "<div>\n",
       "<style scoped>\n",
       "    .dataframe tbody tr th:only-of-type {\n",
       "        vertical-align: middle;\n",
       "    }\n",
       "\n",
       "    .dataframe tbody tr th {\n",
       "        vertical-align: top;\n",
       "    }\n",
       "\n",
       "    .dataframe thead th {\n",
       "        text-align: right;\n",
       "    }\n",
       "</style>\n",
       "<table border=\"1\" class=\"dataframe\">\n",
       "  <thead>\n",
       "    <tr style=\"text-align: right;\">\n",
       "      <th></th>\n",
       "      <th>product_id</th>\n",
       "      <th>product_text</th>\n",
       "      <th>category</th>\n",
       "    </tr>\n",
       "  </thead>\n",
       "  <tbody>\n",
       "    <tr>\n",
       "      <th>7346</th>\n",
       "      <td>207302615</td>\n",
       "      <td>büyük beden uzun kollu kuşaklı simli uzun elbi...</td>\n",
       "      <td>Büyük Beden Elbise</td>\n",
       "    </tr>\n",
       "    <tr>\n",
       "      <th>13535</th>\n",
       "      <td>105855896</td>\n",
       "      <td>kadın bordo büyük beden uzun şifon astarlı elbise</td>\n",
       "      <td>Büyük Beden Elbise</td>\n",
       "    </tr>\n",
       "    <tr>\n",
       "      <th>2241</th>\n",
       "      <td>88207886</td>\n",
       "      <td>kadın bordo çiçek desenli kısa kol elbise</td>\n",
       "      <td>Büyük Beden Elbise</td>\n",
       "    </tr>\n",
       "    <tr>\n",
       "      <th>12239</th>\n",
       "      <td>65910593</td>\n",
       "      <td>kadın siyah fırfırlı elbise</td>\n",
       "      <td>Büyük Beden Elbise</td>\n",
       "    </tr>\n",
       "    <tr>\n",
       "      <th>3251</th>\n",
       "      <td>192793589</td>\n",
       "      <td>kadın lacivert hakim yaka etnik nakış desenli ...</td>\n",
       "      <td>Büyük Beden Elbise</td>\n",
       "    </tr>\n",
       "  </tbody>\n",
       "</table>\n",
       "</div>"
      ],
      "text/plain": [
       "       product_id                                       product_text  \\\n",
       "7346    207302615  büyük beden uzun kollu kuşaklı simli uzun elbi...   \n",
       "13535   105855896  kadın bordo büyük beden uzun şifon astarlı elbise   \n",
       "2241     88207886          kadın bordo çiçek desenli kısa kol elbise   \n",
       "12239    65910593                        kadın siyah fırfırlı elbise   \n",
       "3251    192793589  kadın lacivert hakim yaka etnik nakış desenli ...   \n",
       "\n",
       "                 category  \n",
       "7346   Büyük Beden Elbise  \n",
       "13535  Büyük Beden Elbise  \n",
       "2241   Büyük Beden Elbise  \n",
       "12239  Büyük Beden Elbise  \n",
       "3251   Büyük Beden Elbise  "
      ]
     },
     "execution_count": 10,
     "metadata": {},
     "output_type": "execute_result"
    }
   ],
   "source": [
    "\n",
    "label_encoder = LabelEncoder()\n",
    "\n",
    "y_train = label_encoder.fit_transform(df_filtered_train['category'])\n",
    "y_test = label_encoder.transform(df_filtered_test['category'])\n",
    "\n",
    "# Create the RandomUnderSampler object\n",
    "rus = RandomUnderSampler(random_state=42)\n",
    "\n",
    "# Perform undersampling on the data\n",
    "X_train_resampled, y_train_resampled = rus.fit_resample(df_filtered_train, y_train)\n",
    "\n",
    "X_train_resampled.head()"
   ]
  },
  {
   "cell_type": "code",
   "execution_count": 11,
   "metadata": {},
   "outputs": [
    {
     "data": {
      "text/html": [
       "<div>\n",
       "<style scoped>\n",
       "    .dataframe tbody tr th:only-of-type {\n",
       "        vertical-align: middle;\n",
       "    }\n",
       "\n",
       "    .dataframe tbody tr th {\n",
       "        vertical-align: top;\n",
       "    }\n",
       "\n",
       "    .dataframe thead th {\n",
       "        text-align: right;\n",
       "    }\n",
       "</style>\n",
       "<table border=\"1\" class=\"dataframe\">\n",
       "  <thead>\n",
       "    <tr style=\"text-align: right;\">\n",
       "      <th></th>\n",
       "      <th>product_id</th>\n",
       "      <th>product_text</th>\n",
       "      <th>category</th>\n",
       "    </tr>\n",
       "  </thead>\n",
       "  <tbody>\n",
       "    <tr>\n",
       "      <th>7346</th>\n",
       "      <td>207302615</td>\n",
       "      <td>büyük beden uzun kollu kuşaklı simli uzun elbi...</td>\n",
       "      <td>Büyük Beden Elbise</td>\n",
       "    </tr>\n",
       "    <tr>\n",
       "      <th>13535</th>\n",
       "      <td>105855896</td>\n",
       "      <td>kadın bordo büyük beden uzun şifon astarlı elbise</td>\n",
       "      <td>Büyük Beden Elbise</td>\n",
       "    </tr>\n",
       "    <tr>\n",
       "      <th>2241</th>\n",
       "      <td>88207886</td>\n",
       "      <td>kadın bordo çiçek desenli kısa kol elbise</td>\n",
       "      <td>Büyük Beden Elbise</td>\n",
       "    </tr>\n",
       "    <tr>\n",
       "      <th>12239</th>\n",
       "      <td>65910593</td>\n",
       "      <td>kadın siyah fırfırlı elbise</td>\n",
       "      <td>Büyük Beden Elbise</td>\n",
       "    </tr>\n",
       "    <tr>\n",
       "      <th>3251</th>\n",
       "      <td>192793589</td>\n",
       "      <td>kadın lacivert hakim yaka etnik nakış desenli ...</td>\n",
       "      <td>Büyük Beden Elbise</td>\n",
       "    </tr>\n",
       "    <tr>\n",
       "      <th>...</th>\n",
       "      <td>...</td>\n",
       "      <td>...</td>\n",
       "      <td>...</td>\n",
       "    </tr>\n",
       "    <tr>\n",
       "      <th>6890</th>\n",
       "      <td>213063788</td>\n",
       "      <td>gül kürü yüz temizleme köpüğü 150 ml</td>\n",
       "      <td>Yüz Temizleyici</td>\n",
       "    </tr>\n",
       "    <tr>\n",
       "      <th>19442</th>\n",
       "      <td>212546135</td>\n",
       "      <td>marka gül kürü yüz temizleme köpüğü 150 ml kat...</td>\n",
       "      <td>Yüz Temizleyici</td>\n",
       "    </tr>\n",
       "    <tr>\n",
       "      <th>10953</th>\n",
       "      <td>83799038</td>\n",
       "      <td>clarify salicylic acid foaming cleanser salisi...</td>\n",
       "      <td>Yüz Temizleyici</td>\n",
       "    </tr>\n",
       "    <tr>\n",
       "      <th>5340</th>\n",
       "      <td>141777646</td>\n",
       "      <td>semina microblading kalıcı makyaj temizleme kö...</td>\n",
       "      <td>Yüz Temizleyici</td>\n",
       "    </tr>\n",
       "    <tr>\n",
       "      <th>20719</th>\n",
       "      <td>213039671</td>\n",
       "      <td>sivilce karşıtı peeling arındırıcı yüz temizle...</td>\n",
       "      <td>Yüz Temizleyici</td>\n",
       "    </tr>\n",
       "  </tbody>\n",
       "</table>\n",
       "<p>24160 rows × 3 columns</p>\n",
       "</div>"
      ],
      "text/plain": [
       "       product_id                                       product_text  \\\n",
       "7346    207302615  büyük beden uzun kollu kuşaklı simli uzun elbi...   \n",
       "13535   105855896  kadın bordo büyük beden uzun şifon astarlı elbise   \n",
       "2241     88207886          kadın bordo çiçek desenli kısa kol elbise   \n",
       "12239    65910593                        kadın siyah fırfırlı elbise   \n",
       "3251    192793589  kadın lacivert hakim yaka etnik nakış desenli ...   \n",
       "...           ...                                                ...   \n",
       "6890    213063788               gül kürü yüz temizleme köpüğü 150 ml   \n",
       "19442   212546135  marka gül kürü yüz temizleme köpüğü 150 ml kat...   \n",
       "10953    83799038  clarify salicylic acid foaming cleanser salisi...   \n",
       "5340    141777646  semina microblading kalıcı makyaj temizleme kö...   \n",
       "20719   213039671  sivilce karşıtı peeling arındırıcı yüz temizle...   \n",
       "\n",
       "                 category  \n",
       "7346   Büyük Beden Elbise  \n",
       "13535  Büyük Beden Elbise  \n",
       "2241   Büyük Beden Elbise  \n",
       "12239  Büyük Beden Elbise  \n",
       "3251   Büyük Beden Elbise  \n",
       "...                   ...  \n",
       "6890      Yüz Temizleyici  \n",
       "19442     Yüz Temizleyici  \n",
       "10953     Yüz Temizleyici  \n",
       "5340      Yüz Temizleyici  \n",
       "20719     Yüz Temizleyici  \n",
       "\n",
       "[24160 rows x 3 columns]"
      ]
     },
     "execution_count": 11,
     "metadata": {},
     "output_type": "execute_result"
    }
   ],
   "source": [
    "X_train_resampled"
   ]
  },
  {
   "cell_type": "code",
   "execution_count": 12,
   "metadata": {},
   "outputs": [],
   "source": [
    "\n",
    "# TF-IDF vectorization\n",
    "vectorizer = TfidfVectorizer()\n",
    "x_train = vectorizer.fit_transform(X_train_resampled['product_text'].to_list())\n",
    "x_test = vectorizer.transform(df_filtered_test['product_text'].to_list())"
   ]
  },
  {
   "cell_type": "code",
   "execution_count": 13,
   "metadata": {},
   "outputs": [
    {
     "data": {
      "text/plain": [
       "(24160, 11437)"
      ]
     },
     "execution_count": 13,
     "metadata": {},
     "output_type": "execute_result"
    }
   ],
   "source": [
    "x_train.shape"
   ]
  },
  {
   "cell_type": "code",
   "execution_count": 14,
   "metadata": {},
   "outputs": [
    {
     "data": {
      "text/html": [
       "<style>#sk-container-id-1 {color: black;background-color: white;}#sk-container-id-1 pre{padding: 0;}#sk-container-id-1 div.sk-toggleable {background-color: white;}#sk-container-id-1 label.sk-toggleable__label {cursor: pointer;display: block;width: 100%;margin-bottom: 0;padding: 0.3em;box-sizing: border-box;text-align: center;}#sk-container-id-1 label.sk-toggleable__label-arrow:before {content: \"▸\";float: left;margin-right: 0.25em;color: #696969;}#sk-container-id-1 label.sk-toggleable__label-arrow:hover:before {color: black;}#sk-container-id-1 div.sk-estimator:hover label.sk-toggleable__label-arrow:before {color: black;}#sk-container-id-1 div.sk-toggleable__content {max-height: 0;max-width: 0;overflow: hidden;text-align: left;background-color: #f0f8ff;}#sk-container-id-1 div.sk-toggleable__content pre {margin: 0.2em;color: black;border-radius: 0.25em;background-color: #f0f8ff;}#sk-container-id-1 input.sk-toggleable__control:checked~div.sk-toggleable__content {max-height: 200px;max-width: 100%;overflow: auto;}#sk-container-id-1 input.sk-toggleable__control:checked~label.sk-toggleable__label-arrow:before {content: \"▾\";}#sk-container-id-1 div.sk-estimator input.sk-toggleable__control:checked~label.sk-toggleable__label {background-color: #d4ebff;}#sk-container-id-1 div.sk-label input.sk-toggleable__control:checked~label.sk-toggleable__label {background-color: #d4ebff;}#sk-container-id-1 input.sk-hidden--visually {border: 0;clip: rect(1px 1px 1px 1px);clip: rect(1px, 1px, 1px, 1px);height: 1px;margin: -1px;overflow: hidden;padding: 0;position: absolute;width: 1px;}#sk-container-id-1 div.sk-estimator {font-family: monospace;background-color: #f0f8ff;border: 1px dotted black;border-radius: 0.25em;box-sizing: border-box;margin-bottom: 0.5em;}#sk-container-id-1 div.sk-estimator:hover {background-color: #d4ebff;}#sk-container-id-1 div.sk-parallel-item::after {content: \"\";width: 100%;border-bottom: 1px solid gray;flex-grow: 1;}#sk-container-id-1 div.sk-label:hover label.sk-toggleable__label {background-color: #d4ebff;}#sk-container-id-1 div.sk-serial::before {content: \"\";position: absolute;border-left: 1px solid gray;box-sizing: border-box;top: 0;bottom: 0;left: 50%;z-index: 0;}#sk-container-id-1 div.sk-serial {display: flex;flex-direction: column;align-items: center;background-color: white;padding-right: 0.2em;padding-left: 0.2em;position: relative;}#sk-container-id-1 div.sk-item {position: relative;z-index: 1;}#sk-container-id-1 div.sk-parallel {display: flex;align-items: stretch;justify-content: center;background-color: white;position: relative;}#sk-container-id-1 div.sk-item::before, #sk-container-id-1 div.sk-parallel-item::before {content: \"\";position: absolute;border-left: 1px solid gray;box-sizing: border-box;top: 0;bottom: 0;left: 50%;z-index: -1;}#sk-container-id-1 div.sk-parallel-item {display: flex;flex-direction: column;z-index: 1;position: relative;background-color: white;}#sk-container-id-1 div.sk-parallel-item:first-child::after {align-self: flex-end;width: 50%;}#sk-container-id-1 div.sk-parallel-item:last-child::after {align-self: flex-start;width: 50%;}#sk-container-id-1 div.sk-parallel-item:only-child::after {width: 0;}#sk-container-id-1 div.sk-dashed-wrapped {border: 1px dashed gray;margin: 0 0.4em 0.5em 0.4em;box-sizing: border-box;padding-bottom: 0.4em;background-color: white;}#sk-container-id-1 div.sk-label label {font-family: monospace;font-weight: bold;display: inline-block;line-height: 1.2em;}#sk-container-id-1 div.sk-label-container {text-align: center;}#sk-container-id-1 div.sk-container {/* jupyter's `normalize.less` sets `[hidden] { display: none; }` but bootstrap.min.css set `[hidden] { display: none !important; }` so we also need the `!important` here to be able to override the default hidden behavior on the sphinx rendered scikit-learn.org. See: https://github.com/scikit-learn/scikit-learn/issues/21755 */display: inline-block !important;position: relative;}#sk-container-id-1 div.sk-text-repr-fallback {display: none;}</style><div id=\"sk-container-id-1\" class=\"sk-top-container\"><div class=\"sk-text-repr-fallback\"><pre>LogisticRegression()</pre><b>In a Jupyter environment, please rerun this cell to show the HTML representation or trust the notebook. <br />On GitHub, the HTML representation is unable to render, please try loading this page with nbviewer.org.</b></div><div class=\"sk-container\" hidden><div class=\"sk-item\"><div class=\"sk-estimator sk-toggleable\"><input class=\"sk-toggleable__control sk-hidden--visually\" id=\"sk-estimator-id-1\" type=\"checkbox\" checked><label for=\"sk-estimator-id-1\" class=\"sk-toggleable__label sk-toggleable__label-arrow\">LogisticRegression</label><div class=\"sk-toggleable__content\"><pre>LogisticRegression()</pre></div></div></div></div></div>"
      ],
      "text/plain": [
       "LogisticRegression()"
      ]
     },
     "execution_count": 14,
     "metadata": {},
     "output_type": "execute_result"
    }
   ],
   "source": [
    "logreg = LogisticRegression()\n",
    "\n",
    "# Fit the logistic regression model on train data\n",
    "logreg.fit(x_train, y_train_resampled)\n",
    "\n"
   ]
  },
  {
   "cell_type": "code",
   "execution_count": 15,
   "metadata": {},
   "outputs": [
    {
     "name": "stdout",
     "output_type": "stream",
     "text": [
      "Accuracy: 0.9954382535027696\n"
     ]
    }
   ],
   "source": [
    "# Predict labels for test data\n",
    "predictions = logreg.predict(x_test)\n",
    "\n",
    "# Calculate accuracy on test data\n",
    "accuracy = accuracy_score(y_test, predictions)  # Replace [0, 1] with actual labels for test data\n",
    "print(\"Accuracy:\", accuracy)"
   ]
  },
  {
   "cell_type": "code",
   "execution_count": 16,
   "metadata": {},
   "outputs": [
    {
     "data": {
      "text/plain": [
       "array([2])"
      ]
     },
     "execution_count": 16,
     "metadata": {},
     "output_type": "execute_result"
    }
   ],
   "source": [
    "a = vectorizer.transform([\"Siyah renkli orta boy aydınlatma\"])\n",
    "logreg.predict(a)"
   ]
  },
  {
   "cell_type": "code",
   "execution_count": 17,
   "metadata": {},
   "outputs": [
    {
     "data": {
      "text/plain": [
       "array([3])"
      ]
     },
     "execution_count": 17,
     "metadata": {},
     "output_type": "execute_result"
    }
   ],
   "source": [
    "a = vectorizer.transform([\"Ortopedik\"])\n",
    "logreg.predict(a)"
   ]
  },
  {
   "cell_type": "code",
   "execution_count": 18,
   "metadata": {},
   "outputs": [
    {
     "data": {
      "text/plain": [
       "{'Büyük Beden Elbise': 0,\n",
       " 'El Feneri': 1,\n",
       " 'Masa Lambası': 2,\n",
       " 'Sandalye Minderi': 3,\n",
       " 'Yüz Temizleyici': 4}"
      ]
     },
     "execution_count": 18,
     "metadata": {},
     "output_type": "execute_result"
    }
   ],
   "source": [
    "dict(zip(label_encoder.classes_, label_encoder.transform(label_encoder.classes_)))"
   ]
  },
  {
   "cell_type": "code",
   "execution_count": 19,
   "metadata": {},
   "outputs": [],
   "source": [
    "df_train_imdb = pd.read_csv('IMDB.csv', on_bad_lines='skip')\n"
   ]
  },
  {
   "cell_type": "code",
   "execution_count": 20,
   "metadata": {},
   "outputs": [
    {
     "data": {
      "text/html": [
       "<div>\n",
       "<style scoped>\n",
       "    .dataframe tbody tr th:only-of-type {\n",
       "        vertical-align: middle;\n",
       "    }\n",
       "\n",
       "    .dataframe tbody tr th {\n",
       "        vertical-align: top;\n",
       "    }\n",
       "\n",
       "    .dataframe thead th {\n",
       "        text-align: right;\n",
       "    }\n",
       "</style>\n",
       "<table border=\"1\" class=\"dataframe\">\n",
       "  <thead>\n",
       "    <tr style=\"text-align: right;\">\n",
       "      <th></th>\n",
       "      <th>review</th>\n",
       "      <th>sentiment</th>\n",
       "    </tr>\n",
       "  </thead>\n",
       "  <tbody>\n",
       "    <tr>\n",
       "      <th>0</th>\n",
       "      <td>One of the other reviewers has mentioned that ...</td>\n",
       "      <td>positive</td>\n",
       "    </tr>\n",
       "    <tr>\n",
       "      <th>1</th>\n",
       "      <td>A wonderful little production. &lt;br /&gt;&lt;br /&gt;The...</td>\n",
       "      <td>positive</td>\n",
       "    </tr>\n",
       "    <tr>\n",
       "      <th>2</th>\n",
       "      <td>I thought this was a wonderful way to spend ti...</td>\n",
       "      <td>positive</td>\n",
       "    </tr>\n",
       "    <tr>\n",
       "      <th>3</th>\n",
       "      <td>Basically there's a family where a little boy ...</td>\n",
       "      <td>negative</td>\n",
       "    </tr>\n",
       "    <tr>\n",
       "      <th>4</th>\n",
       "      <td>Petter Mattei's \"Love in the Time of Money\" is...</td>\n",
       "      <td>positive</td>\n",
       "    </tr>\n",
       "    <tr>\n",
       "      <th>...</th>\n",
       "      <td>...</td>\n",
       "      <td>...</td>\n",
       "    </tr>\n",
       "    <tr>\n",
       "      <th>49995</th>\n",
       "      <td>I thought this movie did a down right good job...</td>\n",
       "      <td>positive</td>\n",
       "    </tr>\n",
       "    <tr>\n",
       "      <th>49996</th>\n",
       "      <td>Bad plot, bad dialogue, bad acting, idiotic di...</td>\n",
       "      <td>negative</td>\n",
       "    </tr>\n",
       "    <tr>\n",
       "      <th>49997</th>\n",
       "      <td>I am a Catholic taught in parochial elementary...</td>\n",
       "      <td>negative</td>\n",
       "    </tr>\n",
       "    <tr>\n",
       "      <th>49998</th>\n",
       "      <td>I'm going to have to disagree with the previou...</td>\n",
       "      <td>negative</td>\n",
       "    </tr>\n",
       "    <tr>\n",
       "      <th>49999</th>\n",
       "      <td>No one expects the Star Trek movies to be high...</td>\n",
       "      <td>negative</td>\n",
       "    </tr>\n",
       "  </tbody>\n",
       "</table>\n",
       "<p>50000 rows × 2 columns</p>\n",
       "</div>"
      ],
      "text/plain": [
       "                                                  review sentiment\n",
       "0      One of the other reviewers has mentioned that ...  positive\n",
       "1      A wonderful little production. <br /><br />The...  positive\n",
       "2      I thought this was a wonderful way to spend ti...  positive\n",
       "3      Basically there's a family where a little boy ...  negative\n",
       "4      Petter Mattei's \"Love in the Time of Money\" is...  positive\n",
       "...                                                  ...       ...\n",
       "49995  I thought this movie did a down right good job...  positive\n",
       "49996  Bad plot, bad dialogue, bad acting, idiotic di...  negative\n",
       "49997  I am a Catholic taught in parochial elementary...  negative\n",
       "49998  I'm going to have to disagree with the previou...  negative\n",
       "49999  No one expects the Star Trek movies to be high...  negative\n",
       "\n",
       "[50000 rows x 2 columns]"
      ]
     },
     "execution_count": 20,
     "metadata": {},
     "output_type": "execute_result"
    }
   ],
   "source": [
    "df_train_imdb"
   ]
  },
  {
   "cell_type": "code",
   "execution_count": 21,
   "metadata": {},
   "outputs": [
    {
     "data": {
      "text/plain": [
       "positive    25000\n",
       "negative    25000\n",
       "Name: sentiment, dtype: int64"
      ]
     },
     "execution_count": 21,
     "metadata": {},
     "output_type": "execute_result"
    }
   ],
   "source": [
    "df_train_imdb = df_train_imdb.dropna()\n",
    "\n",
    "df_train_imdb['sentiment'].value_counts()\n"
   ]
  },
  {
   "cell_type": "code",
   "execution_count": 22,
   "metadata": {},
   "outputs": [],
   "source": [
    "# Get Turkish stop words\n",
    "english_stop_words = set(stopwords.words('english'))\n",
    "\n",
    "# Function to remove stop words from text\n",
    "def remove_stop_words(text):\n",
    "    text = text.lower() \n",
    "    text = re.sub(r'[^\\w\\s]', '', text)\n",
    "    tokens = word_tokenize(text)\n",
    "    filtered_tokens = [word for word in tokens if word.lower() not in english_stop_words]\n",
    "    return ' '.join(filtered_tokens)\n",
    "# Remove stop words from the 'text' column\n",
    "df_train_imdb['review'] = df_train_imdb['review'].apply(remove_stop_words)\n"
   ]
  },
  {
   "cell_type": "code",
   "execution_count": 23,
   "metadata": {},
   "outputs": [
    {
     "data": {
      "text/html": [
       "<div>\n",
       "<style scoped>\n",
       "    .dataframe tbody tr th:only-of-type {\n",
       "        vertical-align: middle;\n",
       "    }\n",
       "\n",
       "    .dataframe tbody tr th {\n",
       "        vertical-align: top;\n",
       "    }\n",
       "\n",
       "    .dataframe thead th {\n",
       "        text-align: right;\n",
       "    }\n",
       "</style>\n",
       "<table border=\"1\" class=\"dataframe\">\n",
       "  <thead>\n",
       "    <tr style=\"text-align: right;\">\n",
       "      <th></th>\n",
       "      <th>review</th>\n",
       "      <th>sentiment</th>\n",
       "    </tr>\n",
       "  </thead>\n",
       "  <tbody>\n",
       "    <tr>\n",
       "      <th>0</th>\n",
       "      <td>one reviewers mentioned watching 1 oz episode ...</td>\n",
       "      <td>positive</td>\n",
       "    </tr>\n",
       "    <tr>\n",
       "      <th>1</th>\n",
       "      <td>wonderful little production br br filming tech...</td>\n",
       "      <td>positive</td>\n",
       "    </tr>\n",
       "    <tr>\n",
       "      <th>2</th>\n",
       "      <td>thought wonderful way spend time hot summer we...</td>\n",
       "      <td>positive</td>\n",
       "    </tr>\n",
       "    <tr>\n",
       "      <th>3</th>\n",
       "      <td>basically theres family little boy jake thinks...</td>\n",
       "      <td>negative</td>\n",
       "    </tr>\n",
       "    <tr>\n",
       "      <th>4</th>\n",
       "      <td>petter matteis love time money visually stunni...</td>\n",
       "      <td>positive</td>\n",
       "    </tr>\n",
       "    <tr>\n",
       "      <th>...</th>\n",
       "      <td>...</td>\n",
       "      <td>...</td>\n",
       "    </tr>\n",
       "    <tr>\n",
       "      <th>49995</th>\n",
       "      <td>thought movie right good job wasnt creative or...</td>\n",
       "      <td>positive</td>\n",
       "    </tr>\n",
       "    <tr>\n",
       "      <th>49996</th>\n",
       "      <td>bad plot bad dialogue bad acting idiotic direc...</td>\n",
       "      <td>negative</td>\n",
       "    </tr>\n",
       "    <tr>\n",
       "      <th>49997</th>\n",
       "      <td>catholic taught parochial elementary schools n...</td>\n",
       "      <td>negative</td>\n",
       "    </tr>\n",
       "    <tr>\n",
       "      <th>49998</th>\n",
       "      <td>im going disagree previous comment side maltin...</td>\n",
       "      <td>negative</td>\n",
       "    </tr>\n",
       "    <tr>\n",
       "      <th>49999</th>\n",
       "      <td>one expects star trek movies high art fans exp...</td>\n",
       "      <td>negative</td>\n",
       "    </tr>\n",
       "  </tbody>\n",
       "</table>\n",
       "<p>50000 rows × 2 columns</p>\n",
       "</div>"
      ],
      "text/plain": [
       "                                                  review sentiment\n",
       "0      one reviewers mentioned watching 1 oz episode ...  positive\n",
       "1      wonderful little production br br filming tech...  positive\n",
       "2      thought wonderful way spend time hot summer we...  positive\n",
       "3      basically theres family little boy jake thinks...  negative\n",
       "4      petter matteis love time money visually stunni...  positive\n",
       "...                                                  ...       ...\n",
       "49995  thought movie right good job wasnt creative or...  positive\n",
       "49996  bad plot bad dialogue bad acting idiotic direc...  negative\n",
       "49997  catholic taught parochial elementary schools n...  negative\n",
       "49998  im going disagree previous comment side maltin...  negative\n",
       "49999  one expects star trek movies high art fans exp...  negative\n",
       "\n",
       "[50000 rows x 2 columns]"
      ]
     },
     "execution_count": 23,
     "metadata": {},
     "output_type": "execute_result"
    }
   ],
   "source": [
    "df_train_imdb"
   ]
  },
  {
   "cell_type": "code",
   "execution_count": 24,
   "metadata": {},
   "outputs": [],
   "source": [
    "label_encoder = LabelEncoder()\n",
    "y_numeric = label_encoder.fit_transform(df_train_imdb['sentiment'])\n",
    "X_train, X_test, y_train, y_test = train_test_split(df_train_imdb, y_numeric, test_size=0.25, random_state=42, stratify=y_numeric)\n",
    "\n"
   ]
  },
  {
   "cell_type": "code",
   "execution_count": 25,
   "metadata": {},
   "outputs": [],
   "source": [
    "vectorizer = TfidfVectorizer()\n",
    "x_train = vectorizer.fit_transform(X_train['review'].to_list())\n",
    "x_test = vectorizer.transform(X_test['review'].to_list())"
   ]
  },
  {
   "cell_type": "code",
   "execution_count": 26,
   "metadata": {},
   "outputs": [
    {
     "data": {
      "text/html": [
       "<style>#sk-container-id-2 {color: black;background-color: white;}#sk-container-id-2 pre{padding: 0;}#sk-container-id-2 div.sk-toggleable {background-color: white;}#sk-container-id-2 label.sk-toggleable__label {cursor: pointer;display: block;width: 100%;margin-bottom: 0;padding: 0.3em;box-sizing: border-box;text-align: center;}#sk-container-id-2 label.sk-toggleable__label-arrow:before {content: \"▸\";float: left;margin-right: 0.25em;color: #696969;}#sk-container-id-2 label.sk-toggleable__label-arrow:hover:before {color: black;}#sk-container-id-2 div.sk-estimator:hover label.sk-toggleable__label-arrow:before {color: black;}#sk-container-id-2 div.sk-toggleable__content {max-height: 0;max-width: 0;overflow: hidden;text-align: left;background-color: #f0f8ff;}#sk-container-id-2 div.sk-toggleable__content pre {margin: 0.2em;color: black;border-radius: 0.25em;background-color: #f0f8ff;}#sk-container-id-2 input.sk-toggleable__control:checked~div.sk-toggleable__content {max-height: 200px;max-width: 100%;overflow: auto;}#sk-container-id-2 input.sk-toggleable__control:checked~label.sk-toggleable__label-arrow:before {content: \"▾\";}#sk-container-id-2 div.sk-estimator input.sk-toggleable__control:checked~label.sk-toggleable__label {background-color: #d4ebff;}#sk-container-id-2 div.sk-label input.sk-toggleable__control:checked~label.sk-toggleable__label {background-color: #d4ebff;}#sk-container-id-2 input.sk-hidden--visually {border: 0;clip: rect(1px 1px 1px 1px);clip: rect(1px, 1px, 1px, 1px);height: 1px;margin: -1px;overflow: hidden;padding: 0;position: absolute;width: 1px;}#sk-container-id-2 div.sk-estimator {font-family: monospace;background-color: #f0f8ff;border: 1px dotted black;border-radius: 0.25em;box-sizing: border-box;margin-bottom: 0.5em;}#sk-container-id-2 div.sk-estimator:hover {background-color: #d4ebff;}#sk-container-id-2 div.sk-parallel-item::after {content: \"\";width: 100%;border-bottom: 1px solid gray;flex-grow: 1;}#sk-container-id-2 div.sk-label:hover label.sk-toggleable__label {background-color: #d4ebff;}#sk-container-id-2 div.sk-serial::before {content: \"\";position: absolute;border-left: 1px solid gray;box-sizing: border-box;top: 0;bottom: 0;left: 50%;z-index: 0;}#sk-container-id-2 div.sk-serial {display: flex;flex-direction: column;align-items: center;background-color: white;padding-right: 0.2em;padding-left: 0.2em;position: relative;}#sk-container-id-2 div.sk-item {position: relative;z-index: 1;}#sk-container-id-2 div.sk-parallel {display: flex;align-items: stretch;justify-content: center;background-color: white;position: relative;}#sk-container-id-2 div.sk-item::before, #sk-container-id-2 div.sk-parallel-item::before {content: \"\";position: absolute;border-left: 1px solid gray;box-sizing: border-box;top: 0;bottom: 0;left: 50%;z-index: -1;}#sk-container-id-2 div.sk-parallel-item {display: flex;flex-direction: column;z-index: 1;position: relative;background-color: white;}#sk-container-id-2 div.sk-parallel-item:first-child::after {align-self: flex-end;width: 50%;}#sk-container-id-2 div.sk-parallel-item:last-child::after {align-self: flex-start;width: 50%;}#sk-container-id-2 div.sk-parallel-item:only-child::after {width: 0;}#sk-container-id-2 div.sk-dashed-wrapped {border: 1px dashed gray;margin: 0 0.4em 0.5em 0.4em;box-sizing: border-box;padding-bottom: 0.4em;background-color: white;}#sk-container-id-2 div.sk-label label {font-family: monospace;font-weight: bold;display: inline-block;line-height: 1.2em;}#sk-container-id-2 div.sk-label-container {text-align: center;}#sk-container-id-2 div.sk-container {/* jupyter's `normalize.less` sets `[hidden] { display: none; }` but bootstrap.min.css set `[hidden] { display: none !important; }` so we also need the `!important` here to be able to override the default hidden behavior on the sphinx rendered scikit-learn.org. See: https://github.com/scikit-learn/scikit-learn/issues/21755 */display: inline-block !important;position: relative;}#sk-container-id-2 div.sk-text-repr-fallback {display: none;}</style><div id=\"sk-container-id-2\" class=\"sk-top-container\"><div class=\"sk-text-repr-fallback\"><pre>LogisticRegression()</pre><b>In a Jupyter environment, please rerun this cell to show the HTML representation or trust the notebook. <br />On GitHub, the HTML representation is unable to render, please try loading this page with nbviewer.org.</b></div><div class=\"sk-container\" hidden><div class=\"sk-item\"><div class=\"sk-estimator sk-toggleable\"><input class=\"sk-toggleable__control sk-hidden--visually\" id=\"sk-estimator-id-2\" type=\"checkbox\" checked><label for=\"sk-estimator-id-2\" class=\"sk-toggleable__label sk-toggleable__label-arrow\">LogisticRegression</label><div class=\"sk-toggleable__content\"><pre>LogisticRegression()</pre></div></div></div></div></div>"
      ],
      "text/plain": [
       "LogisticRegression()"
      ]
     },
     "execution_count": 26,
     "metadata": {},
     "output_type": "execute_result"
    }
   ],
   "source": [
    "logreg = LogisticRegression()\n",
    "\n",
    "# Fit the logistic regression model on train data\n",
    "logreg.fit(x_train, y_train)\n",
    "\n"
   ]
  },
  {
   "cell_type": "code",
   "execution_count": 27,
   "metadata": {},
   "outputs": [
    {
     "name": "stdout",
     "output_type": "stream",
     "text": [
      "Accuracy: 0.89632\n"
     ]
    }
   ],
   "source": [
    "# Predict labels for test data\n",
    "predictions = logreg.predict(x_test)\n",
    "\n",
    "# Calculate accuracy on test data\n",
    "accuracy = accuracy_score(y_test, predictions)  # Replace [0, 1] with actual labels for test data\n",
    "print(\"Accuracy:\", accuracy)"
   ]
  },
  {
   "cell_type": "code",
   "execution_count": null,
   "metadata": {},
   "outputs": [],
   "source": []
  }
 ],
 "metadata": {
  "kernelspec": {
   "display_name": "sumo",
   "language": "python",
   "name": "python3"
  },
  "language_info": {
   "codemirror_mode": {
    "name": "ipython",
    "version": 3
   },
   "file_extension": ".py",
   "mimetype": "text/x-python",
   "name": "python",
   "nbconvert_exporter": "python",
   "pygments_lexer": "ipython3",
   "version": "3.9.13"
  }
 },
 "nbformat": 4,
 "nbformat_minor": 2
}
